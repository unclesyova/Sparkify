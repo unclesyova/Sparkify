{
 "cells": [
  {
   "cell_type": "markdown",
   "metadata": {},
   "source": [
    "# Sparkify Project Workspace\n",
    "This workspace contains a tiny subset (128MB) of the full dataset available (12GB). Feel free to use this workspace to build your project, or to explore a smaller subset with Spark before deploying your cluster on the cloud. Instructions for setting up your Spark cluster is included in the last lesson of the Extracurricular Spark Course content.\n",
    "\n",
    "You can follow the steps below to guide your data analysis and model building portion of this project."
   ]
  },
  {
   "cell_type": "code",
   "execution_count": 27,
   "metadata": {},
   "outputs": [],
   "source": [
    "# import libraries\n",
    "from pyspark.sql import SparkSession\n",
    "import pyspark.sql.functions as F\n",
    "from pyspark.sql.functions import sum as Fsum\n",
    "from pyspark.sql.types import IntegerType, DateType, DoubleType\n",
    "from pyspark.ml.feature import CountVectorizer, IDF, Normalizer, PCA, RegexTokenizer, StandardScaler, StopWordsRemover, StringIndexer, VectorAssembler\n",
    "from pyspark.sql import Window\n",
    "\n",
    "from pyspark.ml.feature import VectorAssembler\n",
    "from pyspark.ml.classification import LogisticRegression, DecisionTreeClassifier, GBTClassifier, RandomForestClassifier\n",
    "from pyspark.ml.feature import StringIndexer, VectorIndexer\n",
    "from pyspark.ml import Pipeline\n",
    "from pyspark.ml.evaluation import BinaryClassificationEvaluator, MulticlassClassificationEvaluator\n",
    "from pyspark.ml.tuning import CrossValidator, ParamGridBuilder\n",
    "\n",
    "from itertools import chain, combinations\n",
    "import datetime\n",
    "import pandas as pd\n",
    "from matplotlib import pyplot as plt"
   ]
  },
  {
   "cell_type": "code",
   "execution_count": 28,
   "metadata": {},
   "outputs": [],
   "source": [
    "# create a Spark session\n",
    "spark = SparkSession.builder \\\n",
    "    .master(\"local\") \\\n",
    "    .appName(\"Sparkify\") \\\n",
    "    .getOrCreate()"
   ]
  },
  {
   "cell_type": "markdown",
   "metadata": {},
   "source": [
    "## Load and Clean Dataset"
   ]
  },
  {
   "cell_type": "code",
   "execution_count": 29,
   "metadata": {},
   "outputs": [],
   "source": [
    "df = spark.read.json(\"mini_sparkify_event_data.json\")"
   ]
  },
  {
   "cell_type": "code",
   "execution_count": 30,
   "metadata": {
    "scrolled": true
   },
   "outputs": [
    {
     "data": {
      "text/plain": [
       "286500"
      ]
     },
     "execution_count": 30,
     "metadata": {},
     "output_type": "execute_result"
    }
   ],
   "source": [
    "df.count()"
   ]
  },
  {
   "cell_type": "code",
   "execution_count": 31,
   "metadata": {
    "scrolled": true
   },
   "outputs": [
    {
     "name": "stdout",
     "output_type": "stream",
     "text": [
      "root\n",
      " |-- artist: string (nullable = true)\n",
      " |-- auth: string (nullable = true)\n",
      " |-- firstName: string (nullable = true)\n",
      " |-- gender: string (nullable = true)\n",
      " |-- itemInSession: long (nullable = true)\n",
      " |-- lastName: string (nullable = true)\n",
      " |-- length: double (nullable = true)\n",
      " |-- level: string (nullable = true)\n",
      " |-- location: string (nullable = true)\n",
      " |-- method: string (nullable = true)\n",
      " |-- page: string (nullable = true)\n",
      " |-- registration: long (nullable = true)\n",
      " |-- sessionId: long (nullable = true)\n",
      " |-- song: string (nullable = true)\n",
      " |-- status: long (nullable = true)\n",
      " |-- ts: long (nullable = true)\n",
      " |-- userAgent: string (nullable = true)\n",
      " |-- userId: string (nullable = true)\n",
      "\n"
     ]
    }
   ],
   "source": [
    "df.printSchema()"
   ]
  },
  {
   "cell_type": "code",
   "execution_count": 32,
   "metadata": {},
   "outputs": [
    {
     "data": {
      "text/plain": [
       "[Row(artist='Martha Tilston', auth='Logged In', firstName='Colin', gender='M', itemInSession=50, lastName='Freeman', length=277.89016, level='paid', location='Bakersfield, CA', method='PUT', page='NextSong', registration=1538173362000, sessionId=29, song='Rockpools', status=200, ts=1538352117000, userAgent='Mozilla/5.0 (Windows NT 6.1; WOW64; rv:31.0) Gecko/20100101 Firefox/31.0', userId='30')]"
      ]
     },
     "execution_count": 32,
     "metadata": {},
     "output_type": "execute_result"
    }
   ],
   "source": [
    "df.take(1)"
   ]
  },
  {
   "cell_type": "markdown",
   "metadata": {},
   "source": [
    "Data has 286500 entries of users' activities within Sparkify with the fields as shown in the schema above."
   ]
  },
  {
   "cell_type": "code",
   "execution_count": 33,
   "metadata": {},
   "outputs": [
    {
     "name": "stdout",
     "output_type": "stream",
     "text": [
      "+------+\n",
      "|userId|\n",
      "+------+\n",
      "|      |\n",
      "|    10|\n",
      "|   100|\n",
      "|100001|\n",
      "|100002|\n",
      "+------+\n",
      "only showing top 5 rows\n",
      "\n"
     ]
    }
   ],
   "source": [
    "df.select('userId').distinct().sort(['userId']).show(n=5)"
   ]
  },
  {
   "cell_type": "code",
   "execution_count": 34,
   "metadata": {},
   "outputs": [
    {
     "data": {
      "text/plain": [
       "0"
      ]
     },
     "execution_count": 34,
     "metadata": {},
     "output_type": "execute_result"
    }
   ],
   "source": [
    "df.filter(df['userId'].isNull()).count()"
   ]
  },
  {
   "cell_type": "markdown",
   "metadata": {},
   "source": [
    "The `userId` field contains empty string values, but there are no NaN values."
   ]
  },
  {
   "cell_type": "code",
   "execution_count": 35,
   "metadata": {},
   "outputs": [
    {
     "data": {
      "text/plain": [
       "8346"
      ]
     },
     "execution_count": 35,
     "metadata": {},
     "output_type": "execute_result"
    }
   ],
   "source": [
    "df.where(df['userId'] == '').count()"
   ]
  },
  {
   "cell_type": "code",
   "execution_count": 36,
   "metadata": {},
   "outputs": [
    {
     "data": {
      "text/plain": [
       "{Row(page='About'),\n",
       " Row(page='Error'),\n",
       " Row(page='Help'),\n",
       " Row(page='Home'),\n",
       " Row(page='Login'),\n",
       " Row(page='Register'),\n",
       " Row(page='Submit Registration')}"
      ]
     },
     "execution_count": 36,
     "metadata": {},
     "output_type": "execute_result"
    }
   ],
   "source": [
    "set(df.where(df['userId'] == '').select('page').collect())"
   ]
  },
  {
   "cell_type": "markdown",
   "metadata": {},
   "source": [
    "The empty string values of user id belong most likely to users who did not signed in yet or to new users considering to register on the platform. In any case without being able to determine their identities this information does not have much value for a task at hand, so these rows can be dropped."
   ]
  },
  {
   "cell_type": "code",
   "execution_count": 37,
   "metadata": {},
   "outputs": [
    {
     "data": {
      "text/plain": [
       "278154"
      ]
     },
     "execution_count": 37,
     "metadata": {},
     "output_type": "execute_result"
    }
   ],
   "source": [
    "df = df.filter(df['userId'] != '')\n",
    "df.count()"
   ]
  },
  {
   "cell_type": "code",
   "execution_count": 38,
   "metadata": {},
   "outputs": [
    {
     "data": {
      "text/plain": [
       "0"
      ]
     },
     "execution_count": 38,
     "metadata": {},
     "output_type": "execute_result"
    }
   ],
   "source": [
    "df.filter(df['sessionId'].isNull()).count()"
   ]
  },
  {
   "cell_type": "code",
   "execution_count": 39,
   "metadata": {},
   "outputs": [
    {
     "name": "stdout",
     "output_type": "stream",
     "text": [
      "+---------+\n",
      "|sessionId|\n",
      "+---------+\n",
      "|     2474|\n",
      "|     2464|\n",
      "|     2459|\n",
      "|     2446|\n",
      "|     2444|\n",
      "+---------+\n",
      "only showing top 5 rows\n",
      "\n"
     ]
    }
   ],
   "source": [
    "df.select('sessionId').distinct().sort(['sessionId'], ascending=False).show(n=5)"
   ]
  },
  {
   "cell_type": "markdown",
   "metadata": {},
   "source": [
    "There are no missing or incorrect values in the `sessionId` field."
   ]
  },
  {
   "cell_type": "code",
   "execution_count": 40,
   "metadata": {},
   "outputs": [
    {
     "data": {
      "text/plain": [
       "0"
      ]
     },
     "execution_count": 40,
     "metadata": {},
     "output_type": "execute_result"
    }
   ],
   "source": [
    "df.filter(df['ts'].isNull()).count()"
   ]
  },
  {
   "cell_type": "code",
   "execution_count": 41,
   "metadata": {},
   "outputs": [
    {
     "name": "stdout",
     "output_type": "stream",
     "text": [
      "+-------------+\n",
      "|           ts|\n",
      "+-------------+\n",
      "|1538352117000|\n",
      "|1538352180000|\n",
      "|1538352394000|\n",
      "|1538352416000|\n",
      "|1538352676000|\n",
      "+-------------+\n",
      "only showing top 5 rows\n",
      "\n"
     ]
    }
   ],
   "source": [
    "df.select('ts').distinct().sort(['ts'], ascending=True).show(n=5)"
   ]
  },
  {
   "cell_type": "markdown",
   "metadata": {},
   "source": [
    "The timestamp field has no missing or incorrect values, but it's needed to be divided by a 1,000 in order to conform to the unix timestamp format."
   ]
  },
  {
   "cell_type": "markdown",
   "metadata": {},
   "source": [
    "## Exploratory Data Analysis"
   ]
  },
  {
   "cell_type": "markdown",
   "metadata": {},
   "source": [
    "We will define `Churn` as a session where a user confirms cancellation of the service."
   ]
  },
  {
   "cell_type": "code",
   "execution_count": 42,
   "metadata": {},
   "outputs": [],
   "source": [
    "def_churn = F.udf(lambda x: int(x=='Cancellation Confirmation'), IntegerType())\n",
    "df = df.withColumn('churn', def_churn(df['page']))"
   ]
  },
  {
   "cell_type": "markdown",
   "metadata": {},
   "source": [
    "#### Separate churning and staying users."
   ]
  },
  {
   "cell_type": "code",
   "execution_count": 43,
   "metadata": {},
   "outputs": [
    {
     "data": {
      "text/plain": [
       "225"
      ]
     },
     "execution_count": 43,
     "metadata": {},
     "output_type": "execute_result"
    }
   ],
   "source": [
    "# collect all users\n",
    "user_ids = list(df.select('userId').sort('userId').collect())\n",
    "user_ids = set([int(list(row.asDict().values())[0]) for row in user_ids]) \n",
    "len(user_ids)"
   ]
  },
  {
   "cell_type": "code",
   "execution_count": 44,
   "metadata": {},
   "outputs": [
    {
     "data": {
      "text/plain": [
       "52"
      ]
     },
     "execution_count": 44,
     "metadata": {},
     "output_type": "execute_result"
    }
   ],
   "source": [
    "df.select('sessionId').where(df['churn']==1).count()"
   ]
  },
  {
   "cell_type": "code",
   "execution_count": 45,
   "metadata": {},
   "outputs": [],
   "source": [
    "churn_users_rows = list(df.select('userId').where(df['churn']==1).collect())\n",
    "# create a list of churned users\n",
    "churn_user_ids = [int(list(row.asDict().values())[0]) for row in churn_users_rows] "
   ]
  },
  {
   "cell_type": "code",
   "execution_count": 46,
   "metadata": {},
   "outputs": [
    {
     "data": {
      "text/plain": [
       "52"
      ]
     },
     "execution_count": 46,
     "metadata": {},
     "output_type": "execute_result"
    }
   ],
   "source": [
    "len(set(churn_user_ids))"
   ]
  },
  {
   "cell_type": "code",
   "execution_count": 47,
   "metadata": {},
   "outputs": [
    {
     "name": "stdout",
     "output_type": "stream",
     "text": [
      "[18, 32, 125, 105, 17, 143, 101, 129, 121, 51, 87, 122, 12, 58, 73, 3, 106, 103, 28, 54, 29, 70, 53, 100011, 100001, 100024, 100006, 100019, 100003, 100023, 100005, 100017, 100025, 100009, 100012, 100013, 100022, 100014, 100015, 100021, 100007, 200001, 200024, 200011, 200021, 200018, 200015, 200017, 200016, 200020, 300007, 300001]\n"
     ]
    }
   ],
   "source": [
    "print(churn_user_ids)"
   ]
  },
  {
   "cell_type": "code",
   "execution_count": 48,
   "metadata": {},
   "outputs": [
    {
     "name": "stdout",
     "output_type": "stream",
     "text": [
      "173\n"
     ]
    }
   ],
   "source": [
    "not_churn_users = list(user_ids - set(churn_user_ids))\n",
    "print(len(not_churn_users))"
   ]
  },
  {
   "cell_type": "markdown",
   "metadata": {},
   "source": [
    "#### Overall songs listened by a user in each category."
   ]
  },
  {
   "cell_type": "code",
   "execution_count": 49,
   "metadata": {},
   "outputs": [],
   "source": [
    "counts_churn = df[df['userId'].isin(churn_user_ids)] \\\n",
    "    .where(df['page'] == 'NextSong') \\\n",
    "    .select('userId', 'page') \\\n",
    "    .groupBy('userId') \\\n",
    "    .count() \\\n",
    "    .select('userId', 'count') "
   ]
  },
  {
   "cell_type": "code",
   "execution_count": 50,
   "metadata": {},
   "outputs": [
    {
     "data": {
      "text/plain": [
       "Text(0,0.5,'Num of Users')"
      ]
     },
     "execution_count": 50,
     "metadata": {},
     "output_type": "execute_result"
    },
    {
     "data": {
      "image/png": "[encoded data removed]",
      "text/plain": [
       "<matplotlib.figure.Figure at 0x7f9802831b38>"
      ]
     },
     "metadata": {
      "needs_background": "light"
     },
     "output_type": "display_data"
    }
   ],
   "source": [
    "pd_churn_counts = counts_churn.toPandas()\n",
    "pd_churn_counts.index = pd_churn_counts['userId']\n",
    "pd_churn_counts['count'].hist()\n",
    "plt.xlabel('Song Counts')\n",
    "plt.ylabel('Num of Users')"
   ]
  },
  {
   "cell_type": "code",
   "execution_count": 51,
   "metadata": {},
   "outputs": [
    {
     "name": "stdout",
     "output_type": "stream",
     "text": [
      "+-------+-----------------+-----------------+\n",
      "|summary|           userId|            count|\n",
      "+-------+-----------------+-----------------+\n",
      "|  count|               52|               52|\n",
      "|   mean|80808.42307692308|699.8846153846154|\n",
      "| stddev| 86381.6770659117|714.7376497666588|\n",
      "|    min|           100001|                8|\n",
      "|    max|               87|             3028|\n",
      "+-------+-----------------+-----------------+\n",
      "\n"
     ]
    }
   ],
   "source": [
    "counts_churn.describe().show()"
   ]
  },
  {
   "cell_type": "code",
   "execution_count": 52,
   "metadata": {},
   "outputs": [],
   "source": [
    "counts_not_churn = df[df['userId'].isin(not_churn_users)] \\\n",
    "    .where(df['page'] == 'NextSong') \\\n",
    "    .select('userId', 'page') \\\n",
    "    .groupBy('userId') \\\n",
    "    .count() \\\n",
    "    .select('userId', 'count')"
   ]
  },
  {
   "cell_type": "code",
   "execution_count": 53,
   "metadata": {},
   "outputs": [
    {
     "data": {
      "text/plain": [
       "Text(0,0.5,'Num of Users')"
      ]
     },
     "execution_count": 53,
     "metadata": {},
     "output_type": "execute_result"
    },
    {
     "data": {
      "image/png": "[encoded data removed]",
      "text/plain": [
       "<matplotlib.figure.Figure at 0x7f97fa6ec6d8>"
      ]
     },
     "metadata": {
      "needs_background": "light"
     },
     "output_type": "display_data"
    }
   ],
   "source": [
    "pd_not_churn_counts = counts_not_churn.toPandas()\n",
    "pd_not_churn_counts.index = pd_not_churn_counts['userId']\n",
    "pd_not_churn_counts['count'].hist()\n",
    "plt.xlabel('Song Counts')\n",
    "plt.ylabel('Num of Users')"
   ]
  },
  {
   "cell_type": "code",
   "execution_count": 54,
   "metadata": {},
   "outputs": [
    {
     "name": "stdout",
     "output_type": "stream",
     "text": [
      "+-------+------------------+------------------+\n",
      "|summary|            userId|             count|\n",
      "+-------+------------------+------------------+\n",
      "|  count|               173|               173|\n",
      "|   mean| 60756.87861271676|1108.1734104046243|\n",
      "| stddev|110276.04376677402|1183.1467030410008|\n",
      "|    min|                10|                 3|\n",
      "|    max|                99|              8002|\n",
      "+-------+------------------+------------------+\n",
      "\n"
     ]
    }
   ],
   "source": [
    "counts_not_churn.describe().show()"
   ]
  },
  {
   "cell_type": "markdown",
   "metadata": {},
   "source": [
    "Create `date` field in the dataframe."
   ]
  },
  {
   "cell_type": "code",
   "execution_count": 55,
   "metadata": {},
   "outputs": [],
   "source": [
    "ts_to_date = F.udf(lambda ts: datetime.date.fromtimestamp(ts/1000), DateType())"
   ]
  },
  {
   "cell_type": "code",
   "execution_count": 56,
   "metadata": {},
   "outputs": [],
   "source": [
    "df = df.withColumn('date', ts_to_date(df['ts']))"
   ]
  },
  {
   "cell_type": "code",
   "execution_count": 57,
   "metadata": {},
   "outputs": [
    {
     "data": {
      "text/plain": [
       "[Row(artist='Martha Tilston', auth='Logged In', firstName='Colin', gender='M', itemInSession=50, lastName='Freeman', length=277.89016, level='paid', location='Bakersfield, CA', method='PUT', page='NextSong', registration=1538173362000, sessionId=29, song='Rockpools', status=200, ts=1538352117000, userAgent='Mozilla/5.0 (Windows NT 6.1; WOW64; rv:31.0) Gecko/20100101 Firefox/31.0', userId='30', churn=0, date=datetime.date(2018, 10, 1))]"
      ]
     },
     "execution_count": 57,
     "metadata": {},
     "output_type": "execute_result"
    }
   ],
   "source": [
    "df.take(1)"
   ]
  },
  {
   "cell_type": "code",
   "execution_count": 58,
   "metadata": {},
   "outputs": [
    {
     "data": {
      "text/plain": [
       "['Cancel',\n",
       " 'Submit Downgrade',\n",
       " 'Thumbs Down',\n",
       " 'Home',\n",
       " 'Downgrade',\n",
       " 'Roll Advert',\n",
       " 'Logout',\n",
       " 'Save Settings',\n",
       " 'Cancellation Confirmation',\n",
       " 'About',\n",
       " 'Settings',\n",
       " 'Add to Playlist',\n",
       " 'Add Friend',\n",
       " 'NextSong',\n",
       " 'Thumbs Up',\n",
       " 'Help',\n",
       " 'Upgrade',\n",
       " 'Error',\n",
       " 'Submit Upgrade']"
      ]
     },
     "execution_count": 58,
     "metadata": {},
     "output_type": "execute_result"
    }
   ],
   "source": [
    "# all the pages visited by users\n",
    "pages_list = df.select('page').distinct().collect()\n",
    "pages_list = [list(row.asDict().values())[0] for row in pages_list]\n",
    "pages_list"
   ]
  },
  {
   "cell_type": "markdown",
   "metadata": {},
   "source": [
    "#### Average daily page visits by a user in each category."
   ]
  },
  {
   "cell_type": "code",
   "execution_count": 59,
   "metadata": {},
   "outputs": [],
   "source": [
    "def get_daily_stat(group, page):\n",
    "    \"\"\"Show statistics on average daily page visits of every user\n",
    "    \n",
    "    Keyword arguments:\n",
    "    group -- a subset of users\n",
    "    page -- a page to calculate statistics on\n",
    "    \"\"\"\n",
    "    df[df['userId'].isin(group)] \\\n",
    "        .select('userId', 'date', 'page') \\\n",
    "        .where(df['page']==page) \\\n",
    "        .groupBy('userId', 'date') \\\n",
    "        .count() \\\n",
    "        .select('userId', 'count') \\\n",
    "        .groupBy('userId') \\\n",
    "        .avg() \\\n",
    "        .select('avg(count)') \\\n",
    "        .describe() \\\n",
    "        .show()"
   ]
  },
  {
   "cell_type": "code",
   "execution_count": 60,
   "metadata": {},
   "outputs": [
    {
     "name": "stdout",
     "output_type": "stream",
     "text": [
      "Cancel\n",
      "  Churn\n",
      "+-------+----------+\n",
      "|summary|avg(count)|\n",
      "+-------+----------+\n",
      "|  count|        52|\n",
      "|   mean|       1.0|\n",
      "| stddev|       0.0|\n",
      "|    min|       1.0|\n",
      "|    max|       1.0|\n",
      "+-------+----------+\n",
      "\n",
      "  Not Churn\n",
      "+-------+----------+\n",
      "|summary|avg(count)|\n",
      "+-------+----------+\n",
      "|  count|         0|\n",
      "|   mean|      null|\n",
      "| stddev|      null|\n",
      "|    min|      null|\n",
      "|    max|      null|\n",
      "+-------+----------+\n",
      "\n",
      "Submit Downgrade\n",
      "  Churn\n",
      "+-------+----------+\n",
      "|summary|avg(count)|\n",
      "+-------+----------+\n",
      "|  count|         9|\n",
      "|   mean|       1.0|\n",
      "| stddev|       0.0|\n",
      "|    min|       1.0|\n",
      "|    max|       1.0|\n",
      "+-------+----------+\n",
      "\n",
      "  Not Churn\n",
      "+-------+-------------------+\n",
      "|summary|         avg(count)|\n",
      "+-------+-------------------+\n",
      "|  count|                 40|\n",
      "|   mean|              1.025|\n",
      "| stddev|0.15811388300841897|\n",
      "|    min|                1.0|\n",
      "|    max|                2.0|\n",
      "+-------+-------------------+\n",
      "\n",
      "Thumbs Down\n",
      "  Churn\n",
      "+-------+------------------+\n",
      "|summary|        avg(count)|\n",
      "+-------+------------------+\n",
      "|  count|                48|\n",
      "|   mean|1.7684821805516469|\n",
      "| stddev| 0.640039518595673|\n",
      "|    min|               1.0|\n",
      "|    max|               3.5|\n",
      "+-------+------------------+\n",
      "\n",
      "  Not Churn\n",
      "+-------+------------------+\n",
      "|summary|        avg(count)|\n",
      "+-------+------------------+\n",
      "|  count|               155|\n",
      "|   mean|1.6772148934547566|\n",
      "| stddev|0.6154484845966349|\n",
      "|    min|               1.0|\n",
      "|    max|               4.0|\n",
      "+-------+------------------+\n",
      "\n",
      "Home\n",
      "  Churn\n",
      "+-------+------------------+\n",
      "|summary|        avg(count)|\n",
      "+-------+------------------+\n",
      "|  count|                51|\n",
      "|   mean|3.4926812996801724|\n",
      "| stddev|1.4150312638600018|\n",
      "|    min|               1.0|\n",
      "|    max|               7.0|\n",
      "+-------+------------------+\n",
      "\n",
      "  Not Churn\n",
      "+-------+------------------+\n",
      "|summary|        avg(count)|\n",
      "+-------+------------------+\n",
      "|  count|               172|\n",
      "|   mean| 3.350775341109612|\n",
      "| stddev|1.1859332679423435|\n",
      "|    min|               1.0|\n",
      "|    max|               7.0|\n",
      "+-------+------------------+\n",
      "\n",
      "Downgrade\n",
      "  Churn\n",
      "+-------+------------------+\n",
      "|summary|        avg(count)|\n",
      "+-------+------------------+\n",
      "|  count|                35|\n",
      "|   mean| 2.002621048419367|\n",
      "| stddev|0.7530032020753012|\n",
      "|    min|               1.0|\n",
      "|    max|               5.0|\n",
      "+-------+------------------+\n",
      "\n",
      "  Not Churn\n",
      "+-------+------------------+\n",
      "|summary|        avg(count)|\n",
      "+-------+------------------+\n",
      "|  count|               119|\n",
      "|   mean|1.9158293606159598|\n",
      "| stddev|0.5898638034359617|\n",
      "|    min|               1.0|\n",
      "|    max|               4.0|\n",
      "+-------+------------------+\n",
      "\n",
      "Roll Advert\n",
      "  Churn\n",
      "+-------+------------------+\n",
      "|summary|        avg(count)|\n",
      "+-------+------------------+\n",
      "|  count|                50|\n",
      "|   mean|3.6980876345876346|\n",
      "| stddev| 2.564970693839343|\n",
      "|    min|               1.0|\n",
      "|    max|              14.0|\n",
      "+-------+------------------+\n",
      "\n",
      "  Not Churn\n",
      "+-------+------------------+\n",
      "|summary|        avg(count)|\n",
      "+-------+------------------+\n",
      "|  count|               157|\n",
      "|   mean| 3.045904632051128|\n",
      "| stddev|1.8476997185129873|\n",
      "|    min|               1.0|\n",
      "|    max|              11.0|\n",
      "+-------+------------------+\n",
      "\n",
      "Logout\n",
      "  Churn\n",
      "+-------+------------------+\n",
      "|summary|        avg(count)|\n",
      "+-------+------------------+\n",
      "|  count|                46|\n",
      "|   mean|1.8195126733170213|\n",
      "| stddev|0.6544788084893796|\n",
      "|    min|               1.0|\n",
      "|    max|               3.5|\n",
      "+-------+------------------+\n",
      "\n",
      "  Not Churn\n",
      "+-------+-------------------+\n",
      "|summary|         avg(count)|\n",
      "+-------+-------------------+\n",
      "|  count|                167|\n",
      "|   mean| 1.7001284336558853|\n",
      "| stddev|0.47495317446132784|\n",
      "|    min|                1.0|\n",
      "|    max|                4.0|\n",
      "+-------+-------------------+\n",
      "\n",
      "Save Settings\n",
      "  Churn\n",
      "+-------+------------------+\n",
      "|summary|        avg(count)|\n",
      "+-------+------------------+\n",
      "|  count|                30|\n",
      "|   mean|1.0611111111111111|\n",
      "| stddev|0.1607175798888003|\n",
      "|    min|               1.0|\n",
      "|    max|               1.5|\n",
      "+-------+------------------+\n",
      "\n",
      "  Not Churn\n",
      "+-------+-------------------+\n",
      "|summary|         avg(count)|\n",
      "+-------+-------------------+\n",
      "|  count|                102|\n",
      "|   mean| 1.0883986928104574|\n",
      "| stddev|0.21828904163252033|\n",
      "|    min|                1.0|\n",
      "|    max|                2.0|\n",
      "+-------+-------------------+\n",
      "\n",
      "Cancellation Confirmation\n",
      "  Churn\n",
      "+-------+----------+\n",
      "|summary|avg(count)|\n",
      "+-------+----------+\n",
      "|  count|        52|\n",
      "|   mean|       1.0|\n",
      "| stddev|       0.0|\n",
      "|    min|       1.0|\n",
      "|    max|       1.0|\n",
      "+-------+----------+\n",
      "\n",
      "  Not Churn\n",
      "+-------+----------+\n",
      "|summary|avg(count)|\n",
      "+-------+----------+\n",
      "|  count|         0|\n",
      "|   mean|      null|\n",
      "| stddev|      null|\n",
      "|    min|      null|\n",
      "|    max|      null|\n",
      "+-------+----------+\n",
      "\n",
      "About\n",
      "  Churn\n",
      "+-------+------------------+\n",
      "|summary|        avg(count)|\n",
      "+-------+------------------+\n",
      "|  count|                31|\n",
      "|   mean|1.0994623655913978|\n",
      "| stddev|0.2656398240645258|\n",
      "|    min|               1.0|\n",
      "|    max|               2.0|\n",
      "+-------+------------------+\n",
      "\n",
      "  Not Churn\n",
      "+-------+------------------+\n",
      "|summary|        avg(count)|\n",
      "+-------+------------------+\n",
      "|  count|               124|\n",
      "|   mean|1.1573565971380064|\n",
      "| stddev|0.3288439326547958|\n",
      "|    min|               1.0|\n",
      "|    max|               3.0|\n",
      "+-------+------------------+\n",
      "\n",
      "Settings\n",
      "  Churn\n",
      "+-------+------------------+\n",
      "|summary|        avg(count)|\n",
      "+-------+------------------+\n",
      "|  count|                43|\n",
      "|   mean|1.6575119970468806|\n",
      "| stddev|0.6340971688722767|\n",
      "|    min|               1.0|\n",
      "|    max|               4.0|\n",
      "+-------+------------------+\n",
      "\n",
      "  Not Churn\n",
      "+-------+------------------+\n",
      "|summary|        avg(count)|\n",
      "+-------+------------------+\n",
      "|  count|               152|\n",
      "|   mean|1.5169927660059233|\n",
      "| stddev|0.6084857632249902|\n",
      "|    min|               1.0|\n",
      "|    max|               5.0|\n",
      "+-------+------------------+\n",
      "\n",
      "Add to Playlist\n",
      "  Churn\n",
      "+-------+------------------+\n",
      "|summary|        avg(count)|\n",
      "+-------+------------------+\n",
      "|  count|                50|\n",
      "|   mean|2.6696464383569647|\n",
      "| stddev|1.2637052626005387|\n",
      "|    min|               1.0|\n",
      "|    max| 5.545454545454546|\n",
      "+-------+------------------+\n",
      "\n",
      "  Not Churn\n",
      "+-------+------------------+\n",
      "|summary|        avg(count)|\n",
      "+-------+------------------+\n",
      "|  count|               165|\n",
      "|   mean|2.8307321961043304|\n",
      "| stddev|1.1469817827791773|\n",
      "|    min|               1.0|\n",
      "|    max|              10.0|\n",
      "+-------+------------------+\n",
      "\n",
      "Add Friend\n",
      "  Churn\n",
      "+-------+------------------+\n",
      "|summary|        avg(count)|\n",
      "+-------+------------------+\n",
      "|  count|                44|\n",
      "|   mean| 2.540046758796759|\n",
      "| stddev|1.0758575098321592|\n",
      "|    min|               1.0|\n",
      "|    max|               6.0|\n",
      "+-------+------------------+\n",
      "\n",
      "  Not Churn\n",
      "+-------+------------------+\n",
      "|summary|        avg(count)|\n",
      "+-------+------------------+\n",
      "|  count|               162|\n",
      "|   mean|2.7418357535693247|\n",
      "| stddev| 1.139505564705059|\n",
      "|    min|               1.0|\n",
      "|    max|               8.0|\n",
      "+-------+------------------+\n",
      "\n",
      "NextSong\n",
      "  Churn\n",
      "+-------+-----------------+\n",
      "|summary|       avg(count)|\n",
      "+-------+-----------------+\n",
      "|  count|               52|\n",
      "|   mean|62.53653785936774|\n",
      "| stddev|37.00991911359263|\n",
      "|    min|              8.0|\n",
      "|    max|162.3846153846154|\n",
      "+-------+-----------------+\n",
      "\n",
      "  Not Churn\n",
      "+-------+------------------+\n",
      "|summary|        avg(count)|\n",
      "+-------+------------------+\n",
      "|  count|               173|\n",
      "|   mean| 64.98898351495575|\n",
      "| stddev| 30.53178020677548|\n",
      "|    min|               3.0|\n",
      "|    max|151.76470588235293|\n",
      "+-------+------------------+\n",
      "\n",
      "Thumbs Up\n",
      "  Churn\n",
      "+-------+-----------------+\n",
      "|summary|       avg(count)|\n",
      "+-------+-----------------+\n",
      "|  count|               50|\n",
      "|   mean|4.123449855808678|\n",
      "| stddev|2.016436499645653|\n",
      "|    min|              1.0|\n",
      "|    max|             9.25|\n",
      "+-------+-----------------+\n",
      "\n",
      "  Not Churn\n",
      "+-------+------------------+\n",
      "|summary|        avg(count)|\n",
      "+-------+------------------+\n",
      "|  count|               170|\n",
      "|   mean| 4.424632147550459|\n",
      "| stddev|1.8110140972060196|\n",
      "|    min|               1.0|\n",
      "|    max| 9.297872340425531|\n",
      "+-------+------------------+\n",
      "\n",
      "Help\n",
      "  Churn\n",
      "+-------+------------------+\n",
      "|summary|        avg(count)|\n",
      "+-------+------------------+\n",
      "|  count|                43|\n",
      "|   mean|1.3361480251015134|\n",
      "| stddev|0.3655016291533587|\n",
      "|    min|               1.0|\n",
      "|    max|               2.5|\n",
      "+-------+------------------+\n",
      "\n",
      "  Not Churn\n",
      "+-------+-------------------+\n",
      "|summary|         avg(count)|\n",
      "+-------+-------------------+\n",
      "|  count|                149|\n",
      "|   mean| 1.4507948732336808|\n",
      "| stddev|0.48032585768177527|\n",
      "|    min|                1.0|\n",
      "|    max|                4.0|\n",
      "+-------+-------------------+\n",
      "\n",
      "Upgrade\n",
      "  Churn\n",
      "+-------+------------------+\n",
      "|summary|        avg(count)|\n",
      "+-------+------------------+\n",
      "|  count|                37|\n",
      "|   mean|1.3657657657657658|\n",
      "| stddev|0.6030010588246179|\n",
      "|    min|               1.0|\n",
      "|    max|               4.0|\n",
      "+-------+------------------+\n",
      "\n",
      "  Not Churn\n",
      "+-------+------------------+\n",
      "|summary|        avg(count)|\n",
      "+-------+------------------+\n",
      "|  count|               131|\n",
      "|   mean|1.3166462884020138|\n",
      "| stddev|0.6205453963872308|\n",
      "|    min|               1.0|\n",
      "|    max|               4.0|\n",
      "+-------+------------------+\n",
      "\n",
      "Error\n",
      "  Churn\n",
      "+-------+-------------------+\n",
      "|summary|         avg(count)|\n",
      "+-------+-------------------+\n",
      "|  count|                 22|\n",
      "|   mean| 1.0681818181818181|\n",
      "| stddev|0.23378126454803785|\n",
      "|    min|                1.0|\n",
      "|    max|                2.0|\n",
      "+-------+-------------------+\n",
      "\n",
      "  Not Churn\n",
      "+-------+------------------+\n",
      "|summary|        avg(count)|\n",
      "+-------+------------------+\n",
      "|  count|                95|\n",
      "|   mean|1.1003508771929824|\n",
      "| stddev|0.2572814198564666|\n",
      "|    min|               1.0|\n",
      "|    max|               2.0|\n",
      "+-------+------------------+\n",
      "\n",
      "Submit Upgrade\n",
      "  Churn\n",
      "+-------+----------+\n",
      "|summary|avg(count)|\n",
      "+-------+----------+\n",
      "|  count|        29|\n",
      "|   mean|       1.0|\n",
      "| stddev|       0.0|\n",
      "|    min|       1.0|\n",
      "|    max|       1.0|\n",
      "+-------+----------+\n",
      "\n",
      "  Not Churn\n",
      "+-------+----------+\n",
      "|summary|avg(count)|\n",
      "+-------+----------+\n",
      "|  count|       102|\n",
      "|   mean|       1.0|\n",
      "| stddev|       0.0|\n",
      "|    min|       1.0|\n",
      "|    max|       1.0|\n",
      "+-------+----------+\n",
      "\n"
     ]
    }
   ],
   "source": [
    "# go through all pages\n",
    "for page in pages_list:\n",
    "    print(page)\n",
    "    print('  Churn')\n",
    "    get_daily_stat(churn_user_ids, page)\n",
    "    print('  Not Churn')\n",
    "    get_daily_stat(not_churn_users, page)"
   ]
  },
  {
   "cell_type": "markdown",
   "metadata": {},
   "source": [
    "#### Gender distribution of two groups"
   ]
  },
  {
   "cell_type": "code",
   "execution_count": 61,
   "metadata": {},
   "outputs": [
    {
     "name": "stdout",
     "output_type": "stream",
     "text": [
      "+------+-----+\n",
      "|gender|count|\n",
      "+------+-----+\n",
      "|     F|   20|\n",
      "|     M|   32|\n",
      "+------+-----+\n",
      "\n"
     ]
    }
   ],
   "source": [
    "df[df['userId'].isin(churn_user_ids)] \\\n",
    "    .select('userId', 'gender') \\\n",
    "    .distinct() \\\n",
    "    .groupBy('gender') \\\n",
    "    .count() \\\n",
    "    .show()"
   ]
  },
  {
   "cell_type": "code",
   "execution_count": 62,
   "metadata": {},
   "outputs": [
    {
     "name": "stdout",
     "output_type": "stream",
     "text": [
      "+------+-----+\n",
      "|gender|count|\n",
      "+------+-----+\n",
      "|     F|   84|\n",
      "|     M|   89|\n",
      "+------+-----+\n",
      "\n"
     ]
    }
   ],
   "source": [
    "df[df['userId'].isin(not_churn_users)] \\\n",
    "    .select('userId', 'gender') \\\n",
    "    .distinct() \\\n",
    "    .groupBy('gender') \\\n",
    "    .count() \\\n",
    "    .show()"
   ]
  },
  {
   "cell_type": "markdown",
   "metadata": {},
   "source": [
    "#### Likes/Dislikes ratio for two groups."
   ]
  },
  {
   "cell_type": "code",
   "execution_count": 63,
   "metadata": {},
   "outputs": [
    {
     "name": "stdout",
     "output_type": "stream",
     "text": [
      "+-------+-----------------+\n",
      "|summary|            ratio|\n",
      "+-------+-----------------+\n",
      "|  count|               47|\n",
      "|   mean|4.373827737796708|\n",
      "| stddev|3.395079074337746|\n",
      "|    min|              1.0|\n",
      "|    max|             20.0|\n",
      "+-------+-----------------+\n",
      "\n"
     ]
    }
   ],
   "source": [
    "tempdf_left = df[df['userId'].isin(churn_user_ids)] \\\n",
    "    .where((df['page']=='Thumbs Up')) \\\n",
    "    .select('userId', 'page') \\\n",
    "    .groupBy('userId') \\\n",
    "    .count() \\\n",
    "    .withColumnRenamed('count', 'TU_count')\n",
    "\n",
    "tempdf_right = df[df['userId'].isin(churn_user_ids)] \\\n",
    "    .where((df['page']=='Thumbs Down')) \\\n",
    "    .select('userId', 'page') \\\n",
    "    .groupBy('userId') \\\n",
    "    .count() \\\n",
    "    .withColumnRenamed('count', 'TD_count')\n",
    "\n",
    "churn_thumbs = tempdf_left.join(tempdf_right, on='userId')\n",
    "churn_thumbs = churn_thumbs.withColumn('ratio', churn_thumbs['TU_count']/churn_thumbs['TD_count'])\n",
    "churn_thumbs.select('ratio').describe().show()"
   ]
  },
  {
   "cell_type": "code",
   "execution_count": 64,
   "metadata": {},
   "outputs": [
    {
     "data": {
      "text/plain": [
       "Text(0,0.5,'Num of Users')"
      ]
     },
     "execution_count": 64,
     "metadata": {},
     "output_type": "execute_result"
    },
    {
     "data": {
      "image/png": "[encoded data removed]",
      "text/plain": [
       "<matplotlib.figure.Figure at 0x7f97f86eef60>"
      ]
     },
     "metadata": {
      "needs_background": "light"
     },
     "output_type": "display_data"
    }
   ],
   "source": [
    "pd_thumbs_churn = churn_thumbs.toPandas()\n",
    "pd_thumbs_churn['ratio'].hist()\n",
    "plt.xlabel('Likes/Dislikes Ratio')\n",
    "plt.ylabel('Num of Users')"
   ]
  },
  {
   "cell_type": "code",
   "execution_count": 65,
   "metadata": {},
   "outputs": [
    {
     "name": "stdout",
     "output_type": "stream",
     "text": [
      "+-------+------------------+\n",
      "|summary|             ratio|\n",
      "+-------+------------------+\n",
      "|  count|               155|\n",
      "|   mean| 6.239476013176319|\n",
      "| stddev|3.5359882638820803|\n",
      "|    min| 1.105263157894737|\n",
      "|    max|              21.0|\n",
      "+-------+------------------+\n",
      "\n"
     ]
    }
   ],
   "source": [
    "tempdf_left = df[df['userId'].isin(not_churn_users)] \\\n",
    "    .where((df['page']=='Thumbs Up')) \\\n",
    "    .select('userId', 'page') \\\n",
    "    .groupBy('userId') \\\n",
    "    .count() \\\n",
    "    .withColumnRenamed('count', 'TU_count')\n",
    "\n",
    "tempdf_right = df[df['userId'].isin(not_churn_users)] \\\n",
    "    .where((df['page']=='Thumbs Down')) \\\n",
    "    .select('userId', 'page') \\\n",
    "    .groupBy('userId') \\\n",
    "    .count() \\\n",
    "    .withColumnRenamed('count', 'TD_count')\n",
    "\n",
    "not_churn_thumbs = tempdf_left.join(tempdf_right, on='userId')\n",
    "not_churn_thumbs = not_churn_thumbs.withColumn('ratio', not_churn_thumbs['TU_count']/not_churn_thumbs['TD_count']) \n",
    "not_churn_thumbs.select('ratio').describe().show()"
   ]
  },
  {
   "cell_type": "code",
   "execution_count": 66,
   "metadata": {},
   "outputs": [
    {
     "data": {
      "text/plain": [
       "Text(0,0.5,'Num of Users')"
      ]
     },
     "execution_count": 66,
     "metadata": {},
     "output_type": "execute_result"
    },
    {
     "data": {
      "image/png": "[encoded data removed]",
      "text/plain": [
       "<matplotlib.figure.Figure at 0x7f97f868ac18>"
      ]
     },
     "metadata": {
      "needs_background": "light"
     },
     "output_type": "display_data"
    }
   ],
   "source": [
    "pd_thumbs_not_churn = not_churn_thumbs.toPandas()\n",
    "pd_thumbs_not_churn['ratio'].hist()\n",
    "plt.xlabel('Likes/Dislikes Ratio')\n",
    "plt.ylabel('Num of Users')"
   ]
  },
  {
   "cell_type": "markdown",
   "metadata": {},
   "source": [
    "#### Average number of songs per day "
   ]
  },
  {
   "cell_type": "code",
   "execution_count": 67,
   "metadata": {},
   "outputs": [
    {
     "name": "stdout",
     "output_type": "stream",
     "text": [
      "+-------+-----------------+-----------------+\n",
      "|summary|           userId|       avg(count)|\n",
      "+-------+-----------------+-----------------+\n",
      "|  count|               52|               52|\n",
      "|   mean|80808.42307692308|62.53653785936774|\n",
      "| stddev| 86381.6770659117|37.00991911359263|\n",
      "|    min|           100001|              8.0|\n",
      "|    max|               87|162.3846153846154|\n",
      "+-------+-----------------+-----------------+\n",
      "\n"
     ]
    }
   ],
   "source": [
    "temp_df = df[df['userId'].isin(churn_user_ids)] \\\n",
    "    .select('userId', 'date', 'page') \\\n",
    "    .where(df['page']=='NextSong') \\\n",
    "    .groupBy('userId', 'date') \\\n",
    "    .count()\n",
    "temp_df.select('userId', 'count').groupBy('userId').avg().describe().show()"
   ]
  },
  {
   "cell_type": "code",
   "execution_count": 68,
   "metadata": {},
   "outputs": [
    {
     "name": "stdout",
     "output_type": "stream",
     "text": [
      "+-------+------------------+------------------+\n",
      "|summary|            userId|        avg(count)|\n",
      "+-------+------------------+------------------+\n",
      "|  count|               173|               173|\n",
      "|   mean| 60756.87861271676| 64.98898351495575|\n",
      "| stddev|110276.04376677402| 30.53178020677548|\n",
      "|    min|                10|               3.0|\n",
      "|    max|                99|151.76470588235293|\n",
      "+-------+------------------+------------------+\n",
      "\n"
     ]
    }
   ],
   "source": [
    "temp_df = df[df['userId'].isin(not_churn_users)] \\\n",
    "    .select('userId', 'date', 'page') \\\n",
    "    .where(df['page']=='NextSong') \\\n",
    "    .groupBy('userId', 'date') \\\n",
    "    .count()\n",
    "temp_df.select('userId', 'count').groupBy('userId').avg().describe().show()"
   ]
  },
  {
   "cell_type": "markdown",
   "metadata": {},
   "source": [
    "#### Overall number of songs by top-20 performers listened by users in each category"
   ]
  },
  {
   "cell_type": "code",
   "execution_count": 69,
   "metadata": {},
   "outputs": [
    {
     "data": {
      "text/plain": [
       "['Kings Of Leon',\n",
       " 'Coldplay',\n",
       " 'Florence + The Machine',\n",
       " 'Dwight Yoakam',\n",
       " 'BjÃ\\x83Â¶rk',\n",
       " 'The Black Keys',\n",
       " 'Muse',\n",
       " 'Justin Bieber',\n",
       " 'Jack Johnson',\n",
       " 'Eminem',\n",
       " 'Radiohead',\n",
       " 'Alliance Ethnik',\n",
       " 'Train',\n",
       " 'Taylor Swift',\n",
       " 'OneRepublic',\n",
       " 'The Killers',\n",
       " 'Linkin Park',\n",
       " 'Evanescence',\n",
       " 'Harmonia',\n",
       " \"Guns N' Roses\"]"
      ]
     },
     "execution_count": 69,
     "metadata": {},
     "output_type": "execute_result"
    }
   ],
   "source": [
    "top_20 = df.filter(df['page']=='NextSong') \\\n",
    "    .select('artist', 'page') \\\n",
    "    .groupBy('artist') \\\n",
    "    .count() \\\n",
    "    .sort('count', ascending=False) \\\n",
    "    .select('artist') \\\n",
    "    .take(20)\n",
    "top_20_artists = [list(row.asDict().values())[0] for row in top_20]\n",
    "top_20_artists"
   ]
  },
  {
   "cell_type": "code",
   "execution_count": 70,
   "metadata": {},
   "outputs": [
    {
     "name": "stdout",
     "output_type": "stream",
     "text": [
      "+-------+-----------------+-----------------+\n",
      "|summary|           userId|            count|\n",
      "+-------+-----------------+-----------------+\n",
      "|  count|               49|               49|\n",
      "|   mean| 81671.3469387755|65.75510204081633|\n",
      "| stddev|88183.98296165405|63.26022006108475|\n",
      "|    min|           100001|                1|\n",
      "|    max|               87|              260|\n",
      "+-------+-----------------+-----------------+\n",
      "\n"
     ]
    }
   ],
   "source": [
    "temp_df = df[df['userId'].isin(churn_user_ids) & df['artist'].isin(top_20_artists)] \\\n",
    "    .select('userId', 'artist') \\\n",
    "    .groupBy('userId') \\\n",
    "    .count() \\\n",
    "    .describe() \\\n",
    "    .show()"
   ]
  },
  {
   "cell_type": "code",
   "execution_count": 71,
   "metadata": {},
   "outputs": [
    {
     "name": "stdout",
     "output_type": "stream",
     "text": [
      "+-------+------------------+------------------+\n",
      "|summary|            userId|             count|\n",
      "+-------+------------------+------------------+\n",
      "|  count|               171|               171|\n",
      "|   mean| 59712.16959064327|100.98830409356725|\n",
      "| stddev|109290.78313159863|105.18141125772084|\n",
      "|    min|                10|                 1|\n",
      "|    max|                99|               686|\n",
      "+-------+------------------+------------------+\n",
      "\n"
     ]
    }
   ],
   "source": [
    "temp_df = df[df['userId'].isin(not_churn_users) & df['artist'].isin(top_20_artists)] \\\n",
    "    .select('userId', 'artist') \\\n",
    "    .groupBy('userId') \\\n",
    "    .count() \\\n",
    "    .describe() \\\n",
    "    .show()"
   ]
  },
  {
   "cell_type": "markdown",
   "metadata": {},
   "source": [
    "#### Daily number of songs by top-20 performers listened by users in each category"
   ]
  },
  {
   "cell_type": "code",
   "execution_count": 72,
   "metadata": {},
   "outputs": [
    {
     "name": "stdout",
     "output_type": "stream",
     "text": [
      "+-------+------------------+\n",
      "|summary|        avg(count)|\n",
      "+-------+------------------+\n",
      "|  count|                47|\n",
      "|   mean| 4.481743048126029|\n",
      "| stddev|1.8621936918143176|\n",
      "|    min|               1.0|\n",
      "|    max|10.090909090909092|\n",
      "+-------+------------------+\n",
      "\n"
     ]
    }
   ],
   "source": [
    "temp_df = df[df['userId'].isin(churn_user_ids) & df['artist'].isin(top_20_artists[:10])] \\\n",
    "    .select('userId', 'date', 'page') \\\n",
    "    .groupBy('userId', 'date') \\\n",
    "    .count()\n",
    "temp_df.select('userId', 'count').groupBy('userId').avg().select('avg(count)').describe().show()"
   ]
  },
  {
   "cell_type": "code",
   "execution_count": 73,
   "metadata": {},
   "outputs": [
    {
     "name": "stdout",
     "output_type": "stream",
     "text": [
      "+-------+-----------------+\n",
      "|summary|       avg(count)|\n",
      "+-------+-----------------+\n",
      "|  count|              170|\n",
      "|   mean|4.464588296783663|\n",
      "| stddev|1.896861997303033|\n",
      "|    min|              1.0|\n",
      "|    max|             10.6|\n",
      "+-------+-----------------+\n",
      "\n"
     ]
    }
   ],
   "source": [
    "temp_df = df[df['userId'].isin(not_churn_users) & df['artist'].isin(top_20_artists[:10])] \\\n",
    "    .select('userId', 'date', 'page') \\\n",
    "    .groupBy('userId', 'date') \\\n",
    "    .count()\n",
    "temp_df.select('userId', 'count').groupBy('userId').avg().select('avg(count)').describe().show()"
   ]
  },
  {
   "cell_type": "markdown",
   "metadata": {},
   "source": [
    "#### Calculating average songs listened per certain page visited by a user (Error, Ads, Settings, etc.)"
   ]
  },
  {
   "cell_type": "code",
   "execution_count": 74,
   "metadata": {},
   "outputs": [],
   "source": [
    "def stat_over_window(group, page):\n",
    "    \"\"\"Calculate statistics on average song listened between visiting a certain page\n",
    "    and return summary dataframe\n",
    "    \n",
    "    Keyword arguments:\n",
    "    group -- a subset of users\n",
    "    page -- a page to calculate statistics on\n",
    "    \"\"\"\n",
    "    function = F.udf(lambda isact : int(isact == page), IntegerType())\n",
    "    \n",
    "    user_window = Window \\\n",
    "        .partitionBy('userId') \\\n",
    "        .orderBy(F.desc('ts')) \\\n",
    "        .rangeBetween(Window.unboundedPreceding, 0)\n",
    "    \n",
    "    cusum = df[df['userId'].isin(group)] \\\n",
    "        .filter((df.page == 'NextSong') | (df.page == page)) \\\n",
    "        .select('userId', 'page', 'ts') \\\n",
    "        .withColumn('actionflag', function(F.col('page'))) \\\n",
    "        .withColumn('period', F.sum('actionflag').over(user_window))\n",
    "\n",
    "    cusum = cusum.filter((cusum.page == 'NextSong')) \\\n",
    "        .groupBy('userId', 'period') \\\n",
    "        .agg({'period':'count'}) \\\n",
    "        .groupBy('userId') \\\n",
    "        .agg({'count(period)':'avg'}) \\\n",
    "        .withColumnRenamed('avg(count(period))', page)\n",
    "    \n",
    "    return cusum"
   ]
  },
  {
   "cell_type": "code",
   "execution_count": 75,
   "metadata": {},
   "outputs": [
    {
     "name": "stdout",
     "output_type": "stream",
     "text": [
      "Cancel\n",
      "  Churn\n",
      "+-------+-----------------+\n",
      "|summary|           Cancel|\n",
      "+-------+-----------------+\n",
      "|  count|               52|\n",
      "|   mean|699.8846153846154|\n",
      "| stddev|714.7376497666588|\n",
      "|    min|              8.0|\n",
      "|    max|           3028.0|\n",
      "+-------+-----------------+\n",
      "\n",
      "  Not Churn\n",
      "+-------+------------------+\n",
      "|summary|            Cancel|\n",
      "+-------+------------------+\n",
      "|  count|               173|\n",
      "|   mean|1108.1734104046243|\n",
      "| stddev|1183.1467030410008|\n",
      "|    min|               3.0|\n",
      "|    max|            8002.0|\n",
      "+-------+------------------+\n",
      "\n",
      "Submit Downgrade\n",
      "  Churn\n",
      "+-------+-----------------+\n",
      "|summary| Submit Downgrade|\n",
      "+-------+-----------------+\n",
      "|  count|               52|\n",
      "|   mean|614.4615384615385|\n",
      "| stddev|  657.35508241289|\n",
      "|    min|              8.0|\n",
      "|    max|           3028.0|\n",
      "+-------+-----------------+\n",
      "\n",
      "  Not Churn\n",
      "+-------+-----------------+\n",
      "|summary| Submit Downgrade|\n",
      "+-------+-----------------+\n",
      "|  count|              173|\n",
      "|   mean|847.5963391136801|\n",
      "| stddev|801.4032952476591|\n",
      "|    min|              3.0|\n",
      "|    max|           4079.0|\n",
      "+-------+-----------------+\n",
      "\n",
      "Thumbs Down\n",
      "  Churn\n",
      "+-------+------------------+\n",
      "|summary|       Thumbs Down|\n",
      "+-------+------------------+\n",
      "|  count|                52|\n",
      "|   mean| 64.72397537523385|\n",
      "| stddev|40.852871467785796|\n",
      "|    min|               8.0|\n",
      "|    max|             214.5|\n",
      "+-------+------------------+\n",
      "\n",
      "  Not Churn\n",
      "+-------+-----------------+\n",
      "|summary|      Thumbs Down|\n",
      "+-------+-----------------+\n",
      "|  count|              173|\n",
      "|   mean|89.75408920505585|\n",
      "| stddev|39.98691645712411|\n",
      "|    min|              3.0|\n",
      "|    max|            209.4|\n",
      "+-------+-----------------+\n",
      "\n",
      "Home\n",
      "  Churn\n",
      "+-------+-----------------+\n",
      "|summary|             Home|\n",
      "+-------+-----------------+\n",
      "|  count|               52|\n",
      "|   mean| 20.1673161767835|\n",
      "| stddev|6.673540526590178|\n",
      "|    min|             2.75|\n",
      "|    max|           32.125|\n",
      "+-------+-----------------+\n",
      "\n",
      "  Not Churn\n",
      "+-------+------------------+\n",
      "|summary|              Home|\n",
      "+-------+------------------+\n",
      "|  count|               173|\n",
      "|   mean|22.316737146091974|\n",
      "| stddev| 6.449840434839607|\n",
      "|    min|               3.0|\n",
      "|    max|              43.5|\n",
      "+-------+------------------+\n",
      "\n",
      "Downgrade\n",
      "  Churn\n",
      "+-------+------------------+\n",
      "|summary|         Downgrade|\n",
      "+-------+------------------+\n",
      "|  count|                52|\n",
      "|   mean|141.17065399407028|\n",
      "| stddev|143.72000929032123|\n",
      "|    min|               8.0|\n",
      "|    max|             767.0|\n",
      "+-------+------------------+\n",
      "\n",
      "  Not Churn\n",
      "+-------+------------------+\n",
      "|summary|         Downgrade|\n",
      "+-------+------------------+\n",
      "|  count|               173|\n",
      "|   mean|144.73949955399962|\n",
      "| stddev|114.17189428198566|\n",
      "|    min|               3.0|\n",
      "|    max|             798.0|\n",
      "+-------+------------------+\n",
      "\n",
      "Roll Advert\n",
      "  Churn\n",
      "+-------+------------------+\n",
      "|summary|       Roll Advert|\n",
      "+-------+------------------+\n",
      "|  count|                52|\n",
      "|   mean|108.89277117483964|\n",
      "| stddev| 296.9007797557819|\n",
      "|    min|3.6666666666666665|\n",
      "|    max|            2111.0|\n",
      "+-------+------------------+\n",
      "\n",
      "  Not Churn\n",
      "+-------+------------------+\n",
      "|summary|       Roll Advert|\n",
      "+-------+------------------+\n",
      "|  count|               173|\n",
      "|   mean| 179.7432117101711|\n",
      "| stddev|263.06293257669967|\n",
      "|    min|               1.5|\n",
      "|    max|            1427.0|\n",
      "+-------+------------------+\n",
      "\n",
      "Logout\n",
      "  Churn\n",
      "+-------+------------------+\n",
      "|summary|            Logout|\n",
      "+-------+------------------+\n",
      "|  count|                52|\n",
      "|   mean|54.292091481755385|\n",
      "| stddev|23.331703432626753|\n",
      "|    min|               8.0|\n",
      "|    max|             111.0|\n",
      "+-------+------------------+\n",
      "\n",
      "  Not Churn\n",
      "+-------+------------------+\n",
      "|summary|            Logout|\n",
      "+-------+------------------+\n",
      "|  count|               173|\n",
      "|   mean| 63.91875016123472|\n",
      "| stddev| 26.07710325655027|\n",
      "|    min|               3.0|\n",
      "|    max|136.66666666666666|\n",
      "+-------+------------------+\n",
      "\n",
      "Save Settings\n",
      "  Churn\n",
      "+-------+------------------+\n",
      "|summary|     Save Settings|\n",
      "+-------+------------------+\n",
      "|  count|                52|\n",
      "|   mean| 319.4105769230769|\n",
      "| stddev|289.56131302046475|\n",
      "|    min|               8.0|\n",
      "|    max|            1457.0|\n",
      "+-------+------------------+\n",
      "\n",
      "  Not Churn\n",
      "+-------+------------------+\n",
      "|summary|     Save Settings|\n",
      "+-------+------------------+\n",
      "|  count|               173|\n",
      "|   mean|479.29948160381684|\n",
      "| stddev| 492.0762074439476|\n",
      "|    min|               3.0|\n",
      "|    max|            4619.0|\n",
      "+-------+------------------+\n",
      "\n",
      "Cancellation Confirmation\n",
      "  Churn\n",
      "+-------+-------------------------+\n",
      "|summary|Cancellation Confirmation|\n",
      "+-------+-------------------------+\n",
      "|  count|                       52|\n",
      "|   mean|        699.8846153846154|\n",
      "| stddev|        714.7376497666588|\n",
      "|    min|                      8.0|\n",
      "|    max|                   3028.0|\n",
      "+-------+-------------------------+\n",
      "\n",
      "  Not Churn\n",
      "+-------+-------------------------+\n",
      "|summary|Cancellation Confirmation|\n",
      "+-------+-------------------------+\n",
      "|  count|                      173|\n",
      "|   mean|       1108.1734104046243|\n",
      "| stddev|       1183.1467030410008|\n",
      "|    min|                      3.0|\n",
      "|    max|                   8002.0|\n",
      "+-------+-------------------------+\n",
      "\n",
      "About\n",
      "  Churn\n",
      "+-------+------------------+\n",
      "|summary|             About|\n",
      "+-------+------------------+\n",
      "|  count|                52|\n",
      "|   mean|317.77532051282054|\n",
      "| stddev| 299.2291299054808|\n",
      "|    min|               8.0|\n",
      "|    max|            1694.0|\n",
      "+-------+------------------+\n",
      "\n",
      "  Not Churn\n",
      "+-------+------------------+\n",
      "|summary|             About|\n",
      "+-------+------------------+\n",
      "|  count|               173|\n",
      "|   mean|317.97023122613916|\n",
      "| stddev| 230.7000386403312|\n",
      "|    min|               3.0|\n",
      "|    max|            1045.0|\n",
      "+-------+------------------+\n",
      "\n",
      "Settings\n",
      "  Churn\n",
      "+-------+------------------+\n",
      "|summary|          Settings|\n",
      "+-------+------------------+\n",
      "|  count|                52|\n",
      "|   mean|120.20772986151277|\n",
      "| stddev| 77.62988400380333|\n",
      "|    min|               5.5|\n",
      "|    max|             476.0|\n",
      "+-------+------------------+\n",
      "\n",
      "  Not Churn\n",
      "+-------+------------------+\n",
      "|summary|          Settings|\n",
      "+-------+------------------+\n",
      "|  count|               173|\n",
      "|   mean|138.06169787382524|\n",
      "| stddev|  74.0401478817057|\n",
      "|    min|               1.5|\n",
      "|    max|             377.0|\n",
      "+-------+------------------+\n",
      "\n",
      "Add to Playlist\n",
      "  Churn\n",
      "+-------+------------------+\n",
      "|summary|   Add to Playlist|\n",
      "+-------+------------------+\n",
      "|  count|                52|\n",
      "|   mean|  31.5798575152038|\n",
      "| stddev| 10.63137812322471|\n",
      "|    min|3.6666666666666665|\n",
      "|    max| 58.76923076923077|\n",
      "+-------+------------------+\n",
      "\n",
      "  Not Churn\n",
      "+-------+------------------+\n",
      "|summary|   Add to Playlist|\n",
      "+-------+------------------+\n",
      "|  count|               173|\n",
      "|   mean|34.972095705655846|\n",
      "| stddev| 11.83928331042064|\n",
      "|    min|               3.0|\n",
      "|    max|              92.0|\n",
      "+-------+------------------+\n",
      "\n",
      "Add Friend\n",
      "  Churn\n",
      "+-------+-----------------+\n",
      "|summary|       Add Friend|\n",
      "+-------+-----------------+\n",
      "|  count|               52|\n",
      "|   mean|67.88148918668018|\n",
      "| stddev|39.95455759723741|\n",
      "|    min|              8.0|\n",
      "|    max|            206.0|\n",
      "+-------+-----------------+\n",
      "\n",
      "  Not Churn\n",
      "+-------+------------------+\n",
      "|summary|        Add Friend|\n",
      "+-------+------------------+\n",
      "|  count|               173|\n",
      "|   mean| 67.82716615415515|\n",
      "| stddev|27.057031884632604|\n",
      "|    min|               3.0|\n",
      "|    max|             202.0|\n",
      "+-------+------------------+\n",
      "\n",
      "NextSong\n",
      "  Churn\n",
      "+-------+--------+\n",
      "|summary|NextSong|\n",
      "+-------+--------+\n",
      "|  count|      52|\n",
      "|   mean|     1.0|\n",
      "| stddev|     0.0|\n",
      "|    min|     1.0|\n",
      "|    max|     1.0|\n",
      "+-------+--------+\n",
      "\n",
      "  Not Churn\n",
      "+-------+--------+\n",
      "|summary|NextSong|\n",
      "+-------+--------+\n",
      "|  count|     173|\n",
      "|   mean|     1.0|\n",
      "| stddev|     0.0|\n",
      "|    min|     1.0|\n",
      "|    max|     1.0|\n",
      "+-------+--------+\n",
      "\n",
      "Thumbs Up\n",
      "  Churn\n",
      "+-------+------------------+\n",
      "|summary|         Thumbs Up|\n",
      "+-------+------------------+\n",
      "|  count|                52|\n",
      "|   mean|18.905502476847246|\n",
      "| stddev| 7.006640841264167|\n",
      "|    min|3.6666666666666665|\n",
      "|    max|            41.375|\n",
      "+-------+------------------+\n",
      "\n",
      "  Not Churn\n",
      "+-------+------------------+\n",
      "|summary|         Thumbs Up|\n",
      "+-------+------------------+\n",
      "|  count|               173|\n",
      "|   mean|18.360674894935986|\n",
      "| stddev| 5.474542833218982|\n",
      "|    min|               3.0|\n",
      "|    max|              37.0|\n",
      "+-------+------------------+\n",
      "\n",
      "Help\n",
      "  Churn\n",
      "+-------+------------------+\n",
      "|summary|              Help|\n",
      "+-------+------------------+\n",
      "|  count|                52|\n",
      "|   mean|119.50251060279244|\n",
      "| stddev| 61.67577524038779|\n",
      "|    min|               8.0|\n",
      "|    max|254.66666666666666|\n",
      "+-------+------------------+\n",
      "\n",
      "  Not Churn\n",
      "+-------+------------------+\n",
      "|summary|              Help|\n",
      "+-------+------------------+\n",
      "|  count|               173|\n",
      "|   mean|140.59098495232584|\n",
      "| stddev| 81.01392992357042|\n",
      "|    min|               3.0|\n",
      "|    max|             583.0|\n",
      "+-------+------------------+\n",
      "\n",
      "Upgrade\n",
      "  Churn\n",
      "+-------+------------------+\n",
      "|summary|           Upgrade|\n",
      "+-------+------------------+\n",
      "|  count|                52|\n",
      "|   mean|268.12962454212453|\n",
      "| stddev| 358.7377902534088|\n",
      "|    min|               8.0|\n",
      "|    max|            2111.0|\n",
      "+-------+------------------+\n",
      "\n",
      "  Not Churn\n",
      "+-------+-----------------+\n",
      "|summary|          Upgrade|\n",
      "+-------+-----------------+\n",
      "|  count|              173|\n",
      "|   mean|456.6239102740549|\n",
      "| stddev|576.8104885447501|\n",
      "|    min|              3.0|\n",
      "|    max|           4079.0|\n",
      "+-------+-----------------+\n",
      "\n",
      "Error\n",
      "  Churn\n",
      "+-------+-----------------+\n",
      "|summary|            Error|\n",
      "+-------+-----------------+\n",
      "|  count|               52|\n",
      "|   mean|450.9519230769231|\n",
      "| stddev|523.8331228713437|\n",
      "|    min|              8.0|\n",
      "|    max|           3028.0|\n",
      "+-------+-----------------+\n",
      "\n",
      "  Not Churn\n",
      "+-------+------------------+\n",
      "|summary|             Error|\n",
      "+-------+------------------+\n",
      "|  count|               173|\n",
      "|   mean|476.35899394439866|\n",
      "| stddev| 379.5928324517535|\n",
      "|    min|               3.0|\n",
      "|    max|            2113.0|\n",
      "+-------+------------------+\n",
      "\n",
      "Submit Upgrade\n",
      "  Churn\n",
      "+-------+----------------+\n",
      "|summary|  Submit Upgrade|\n",
      "+-------+----------------+\n",
      "|  count|              52|\n",
      "|   mean|403.775641025641|\n",
      "| stddev|409.798027840039|\n",
      "|    min|             8.0|\n",
      "|    max|          2111.0|\n",
      "+-------+----------------+\n",
      "\n",
      "  Not Churn\n",
      "+-------+-----------------+\n",
      "|summary|   Submit Upgrade|\n",
      "+-------+-----------------+\n",
      "|  count|              173|\n",
      "|   mean|610.7964354527938|\n",
      "| stddev|611.5084975422291|\n",
      "|    min|              3.0|\n",
      "|    max|           4079.0|\n",
      "+-------+-----------------+\n",
      "\n"
     ]
    }
   ],
   "source": [
    "for page in pages_list:\n",
    "    print(page)\n",
    "    print('  Churn')\n",
    "    stat_over_window(churn_user_ids, page) \\\n",
    "        .select(page) \\\n",
    "        .describe() \\\n",
    "        .show()\n",
    "    print('  Not Churn')\n",
    "    stat_over_window(not_churn_users, page) \\\n",
    "        .select(page) \\\n",
    "        .describe() \\\n",
    "        .show()"
   ]
  },
  {
   "cell_type": "markdown",
   "metadata": {},
   "source": [
    "Some of the above statistics but with visualizations added"
   ]
  },
  {
   "cell_type": "code",
   "execution_count": 76,
   "metadata": {},
   "outputs": [
    {
     "name": "stdout",
     "output_type": "stream",
     "text": [
      "+-------+------------------+\n",
      "|summary|            Logout|\n",
      "+-------+------------------+\n",
      "|  count|                52|\n",
      "|   mean|54.292091481755385|\n",
      "| stddev|23.331703432626753|\n",
      "|    min|               8.0|\n",
      "|    max|             111.0|\n",
      "+-------+------------------+\n",
      "\n"
     ]
    },
    {
     "data": {
      "text/plain": [
       "Text(0,0.5,'Num of Users')"
      ]
     },
     "execution_count": 76,
     "metadata": {},
     "output_type": "execute_result"
    },
    {
     "data": {
      "image/png": "[encoded data removed]",
      "text/plain": [
       "<matplotlib.figure.Figure at 0x7f97f871bdd8>"
      ]
     },
     "metadata": {
      "needs_background": "light"
     },
     "output_type": "display_data"
    }
   ],
   "source": [
    "temp_df = stat_over_window(churn_user_ids, 'Logout').select('Logout')\n",
    "temp_df.describe().show()\n",
    "temp_df.toPandas().hist()\n",
    "plt.xlabel('Avg Songs')\n",
    "plt.ylabel('Num of Users')"
   ]
  },
  {
   "cell_type": "code",
   "execution_count": 77,
   "metadata": {},
   "outputs": [
    {
     "name": "stdout",
     "output_type": "stream",
     "text": [
      "+-------+------------------+\n",
      "|summary|            Logout|\n",
      "+-------+------------------+\n",
      "|  count|               173|\n",
      "|   mean| 63.91875016123472|\n",
      "| stddev| 26.07710325655027|\n",
      "|    min|               3.0|\n",
      "|    max|136.66666666666666|\n",
      "+-------+------------------+\n",
      "\n"
     ]
    },
    {
     "data": {
      "text/plain": [
       "Text(0,0.5,'Num of Users')"
      ]
     },
     "execution_count": 77,
     "metadata": {},
     "output_type": "execute_result"
    },
    {
     "data": {
      "image/png": "[encoded data removed]",
      "text/plain": [
       "<matplotlib.figure.Figure at 0x7f97f8523ac8>"
      ]
     },
     "metadata": {
      "needs_background": "light"
     },
     "output_type": "display_data"
    }
   ],
   "source": [
    "temp_df = stat_over_window(not_churn_users, 'Logout').select('Logout')\n",
    "temp_df.describe().show()\n",
    "temp_df.toPandas().hist()\n",
    "plt.xlabel('Avg Songs')\n",
    "plt.ylabel('Num of Users')"
   ]
  },
  {
   "cell_type": "code",
   "execution_count": 78,
   "metadata": {},
   "outputs": [
    {
     "name": "stdout",
     "output_type": "stream",
     "text": [
      "+-------+------------------+\n",
      "|summary|       Roll Advert|\n",
      "+-------+------------------+\n",
      "|  count|                52|\n",
      "|   mean|108.89277117483964|\n",
      "| stddev| 296.9007797557819|\n",
      "|    min|3.6666666666666665|\n",
      "|    max|            2111.0|\n",
      "+-------+------------------+\n",
      "\n"
     ]
    },
    {
     "data": {
      "text/plain": [
       "Text(0,0.5,'Num of Users')"
      ]
     },
     "execution_count": 78,
     "metadata": {},
     "output_type": "execute_result"
    },
    {
     "data": {
      "image/png": "[encoded data removed]",
      "text/plain": [
       "<matplotlib.figure.Figure at 0x7f97f8658518>"
      ]
     },
     "metadata": {
      "needs_background": "light"
     },
     "output_type": "display_data"
    }
   ],
   "source": [
    "temp_df = stat_over_window(churn_user_ids, 'Roll Advert').select('Roll Advert')\n",
    "temp_df.describe().show()\n",
    "temp_df.toPandas().hist()\n",
    "plt.xlabel('Avg Songs')\n",
    "plt.ylabel('Num of Users')"
   ]
  },
  {
   "cell_type": "code",
   "execution_count": 79,
   "metadata": {},
   "outputs": [
    {
     "name": "stdout",
     "output_type": "stream",
     "text": [
      "+-------+------------------+\n",
      "|summary|       Roll Advert|\n",
      "+-------+------------------+\n",
      "|  count|               173|\n",
      "|   mean| 179.7432117101711|\n",
      "| stddev|263.06293257669967|\n",
      "|    min|               1.5|\n",
      "|    max|            1427.0|\n",
      "+-------+------------------+\n",
      "\n"
     ]
    },
    {
     "data": {
      "text/plain": [
       "Text(0,0.5,'Num of Users')"
      ]
     },
     "execution_count": 79,
     "metadata": {},
     "output_type": "execute_result"
    },
    {
     "data": {
      "image/png": "[encoded data removed]",
      "text/plain": [
       "<matplotlib.figure.Figure at 0x7f98026da390>"
      ]
     },
     "metadata": {
      "needs_background": "light"
     },
     "output_type": "display_data"
    }
   ],
   "source": [
    "temp_df = stat_over_window(not_churn_users, 'Roll Advert').select('Roll Advert')\n",
    "temp_df.describe().show()\n",
    "temp_df.toPandas().hist()\n",
    "plt.xlabel('Avg Songs')\n",
    "plt.ylabel('Num of Users')"
   ]
  },
  {
   "cell_type": "code",
   "execution_count": 80,
   "metadata": {},
   "outputs": [
    {
     "name": "stdout",
     "output_type": "stream",
     "text": [
      "+-------+------------------+\n",
      "|summary|              Help|\n",
      "+-------+------------------+\n",
      "|  count|                52|\n",
      "|   mean|119.50251060279244|\n",
      "| stddev| 61.67577524038779|\n",
      "|    min|               8.0|\n",
      "|    max|254.66666666666666|\n",
      "+-------+------------------+\n",
      "\n"
     ]
    },
    {
     "data": {
      "text/plain": [
       "Text(0,0.5,'Num of Users')"
      ]
     },
     "execution_count": 80,
     "metadata": {},
     "output_type": "execute_result"
    },
    {
     "data": {
      "image/png": "[encoded data removed]",
      "text/plain": [
       "<matplotlib.figure.Figure at 0x7f97f8ad68d0>"
      ]
     },
     "metadata": {
      "needs_background": "light"
     },
     "output_type": "display_data"
    }
   ],
   "source": [
    "temp_df = stat_over_window(churn_user_ids, 'Help').select('Help')\n",
    "temp_df.describe().show()\n",
    "temp_df.toPandas().hist()\n",
    "plt.xlabel('Avg Songs')\n",
    "plt.ylabel('Num of Users')"
   ]
  },
  {
   "cell_type": "code",
   "execution_count": 81,
   "metadata": {},
   "outputs": [
    {
     "name": "stdout",
     "output_type": "stream",
     "text": [
      "+-------+------------------+\n",
      "|summary|              Help|\n",
      "+-------+------------------+\n",
      "|  count|               173|\n",
      "|   mean|140.59098495232584|\n",
      "| stddev| 81.01392992357042|\n",
      "|    min|               3.0|\n",
      "|    max|             583.0|\n",
      "+-------+------------------+\n",
      "\n"
     ]
    },
    {
     "data": {
      "text/plain": [
       "Text(0,0.5,'Num of Users')"
      ]
     },
     "execution_count": 81,
     "metadata": {},
     "output_type": "execute_result"
    },
    {
     "data": {
      "image/png": "[encoded data removed]",
      "text/plain": [
       "<matplotlib.figure.Figure at 0x7f9802785748>"
      ]
     },
     "metadata": {
      "needs_background": "light"
     },
     "output_type": "display_data"
    }
   ],
   "source": [
    "temp_df = stat_over_window(not_churn_users, 'Help').select('Help')\n",
    "temp_df.describe().show()\n",
    "temp_df.toPandas().hist()\n",
    "plt.xlabel('Avg Songs')\n",
    "plt.ylabel('Num of Users')"
   ]
  },
  {
   "cell_type": "code",
   "execution_count": 82,
   "metadata": {},
   "outputs": [
    {
     "name": "stdout",
     "output_type": "stream",
     "text": [
      "+-------+-----------------+\n",
      "|summary|            Error|\n",
      "+-------+-----------------+\n",
      "|  count|               52|\n",
      "|   mean|450.9519230769231|\n",
      "| stddev|523.8331228713437|\n",
      "|    min|              8.0|\n",
      "|    max|           3028.0|\n",
      "+-------+-----------------+\n",
      "\n"
     ]
    },
    {
     "data": {
      "text/plain": [
       "Text(0,0.5,'Num of Users')"
      ]
     },
     "execution_count": 82,
     "metadata": {},
     "output_type": "execute_result"
    },
    {
     "data": {
      "image/png": "[encoded data removed]",
      "text/plain": [
       "<matplotlib.figure.Figure at 0x7f97f8944278>"
      ]
     },
     "metadata": {
      "needs_background": "light"
     },
     "output_type": "display_data"
    }
   ],
   "source": [
    "temp_df = stat_over_window(churn_user_ids, 'Error').select('Error')\n",
    "temp_df.describe().show()\n",
    "temp_df.toPandas().hist()\n",
    "plt.xlabel('Avg Songs')\n",
    "plt.ylabel('Num of Users')"
   ]
  },
  {
   "cell_type": "code",
   "execution_count": 83,
   "metadata": {},
   "outputs": [
    {
     "name": "stdout",
     "output_type": "stream",
     "text": [
      "+-------+------------------+\n",
      "|summary|             Error|\n",
      "+-------+------------------+\n",
      "|  count|               173|\n",
      "|   mean|476.35899394439866|\n",
      "| stddev| 379.5928324517535|\n",
      "|    min|               3.0|\n",
      "|    max|            2113.0|\n",
      "+-------+------------------+\n",
      "\n"
     ]
    },
    {
     "data": {
      "text/plain": [
       "Text(0,0.5,'Num of Users')"
      ]
     },
     "execution_count": 83,
     "metadata": {},
     "output_type": "execute_result"
    },
    {
     "data": {
      "image/png": "[encoded data removed]",
      "text/plain": [
       "<matplotlib.figure.Figure at 0x7f9800632f28>"
      ]
     },
     "metadata": {
      "needs_background": "light"
     },
     "output_type": "display_data"
    }
   ],
   "source": [
    "temp_df = stat_over_window(not_churn_users, 'Error').select('Error')\n",
    "temp_df.describe().show()\n",
    "temp_df.toPandas().hist()\n",
    "plt.xlabel('Avg Songs')\n",
    "plt.ylabel('Num of Users')"
   ]
  },
  {
   "cell_type": "code",
   "execution_count": 84,
   "metadata": {},
   "outputs": [
    {
     "name": "stdout",
     "output_type": "stream",
     "text": [
      "+-------+------------------+\n",
      "|summary|           Upgrade|\n",
      "+-------+------------------+\n",
      "|  count|                52|\n",
      "|   mean|268.12962454212453|\n",
      "| stddev| 358.7377902534088|\n",
      "|    min|               8.0|\n",
      "|    max|            2111.0|\n",
      "+-------+------------------+\n",
      "\n"
     ]
    },
    {
     "data": {
      "text/plain": [
       "array([[<matplotlib.axes._subplots.AxesSubplot object at 0x7f98006a1550>]], dtype=object)"
      ]
     },
     "execution_count": 84,
     "metadata": {},
     "output_type": "execute_result"
    },
    {
     "data": {
      "image/png": "[encoded data removed]",
      "text/plain": [
       "<matplotlib.figure.Figure at 0x7f980270fe48>"
      ]
     },
     "metadata": {
      "needs_background": "light"
     },
     "output_type": "display_data"
    }
   ],
   "source": [
    "temp_df = stat_over_window(churn_user_ids, 'Upgrade').select('Upgrade')\n",
    "temp_df.describe().show()\n",
    "temp_df.toPandas().hist()"
   ]
  },
  {
   "cell_type": "code",
   "execution_count": 85,
   "metadata": {},
   "outputs": [
    {
     "name": "stdout",
     "output_type": "stream",
     "text": [
      "+-------+-----------------+\n",
      "|summary|          Upgrade|\n",
      "+-------+-----------------+\n",
      "|  count|              173|\n",
      "|   mean|456.6239102740549|\n",
      "| stddev|576.8104885447501|\n",
      "|    min|              3.0|\n",
      "|    max|           4079.0|\n",
      "+-------+-----------------+\n",
      "\n"
     ]
    },
    {
     "data": {
      "text/plain": [
       "array([[<matplotlib.axes._subplots.AxesSubplot object at 0x7f9800593a58>]], dtype=object)"
      ]
     },
     "execution_count": 85,
     "metadata": {},
     "output_type": "execute_result"
    },
    {
     "data": {
      "image/png": "[encoded data removed]",
      "text/plain": [
       "<matplotlib.figure.Figure at 0x7f9800593550>"
      ]
     },
     "metadata": {
      "needs_background": "light"
     },
     "output_type": "display_data"
    }
   ],
   "source": [
    "temp_df = stat_over_window(not_churn_users, 'Upgrade').select('Upgrade')\n",
    "temp_df.describe().show()\n",
    "temp_df.toPandas().hist()"
   ]
  },
  {
   "cell_type": "markdown",
   "metadata": {},
   "source": [
    "# Feature Engineering  \n",
    "Based on the exploratory analysis following features were chosen to build a model:\n",
    "- overall number of songs per user  \n",
    "- thumbs up/thumbs down ratio\n",
    "- average songs listened before logging out\n",
    "- average songs listened before rolling advertisment\n",
    "- average songs listened before encountering an error\n",
    "- average songs listened before acsessing the Help section"
   ]
  },
  {
   "cell_type": "code",
   "execution_count": 86,
   "metadata": {},
   "outputs": [],
   "source": [
    "users_df = df.filter((df['userId'].isin(churn_user_ids) & (df['churn']==1)) | df['userId'].isin(not_churn_users)) \\\n",
    "    .select('userId', 'churn') \\\n",
    "    .dropDuplicates() "
   ]
  },
  {
   "cell_type": "code",
   "execution_count": 87,
   "metadata": {},
   "outputs": [],
   "source": [
    "# songs per user overall\n",
    "temp_df = df.where(df['page'] == 'NextSong') \\\n",
    "    .select('userId', 'page') \\\n",
    "    .groupBy('userId') \\\n",
    "    .count() \\\n",
    "    .withColumnRenamed('count', 'songsListened')\n",
    "\n",
    "users_df = users_df.join(temp_df, on='userId')"
   ]
  },
  {
   "cell_type": "code",
   "execution_count": 88,
   "metadata": {},
   "outputs": [],
   "source": [
    "# thumbs up/thumbs down ratio\n",
    "tempdf_left = df.where((df['page']=='Thumbs Up')) \\\n",
    "    .select('userId', 'page') \\\n",
    "    .groupBy('userId') \\\n",
    "    .count() \\\n",
    "    .withColumnRenamed('count', 'TU_count')\n",
    "\n",
    "tempdf_right = df.where((df['page']=='Thumbs Down')) \\\n",
    "    .select('userId', 'page') \\\n",
    "    .groupBy('userId') \\\n",
    "    .count() \\\n",
    "    .withColumnRenamed('count', 'TD_count')\n",
    "\n",
    "temp_df = tempdf_left.join(tempdf_right, on='userId') \n",
    "\n",
    "temp_df = temp_df.withColumn('thumbsRatio', F.round(temp_df['TU_count']/temp_df['TD_count']))\n",
    "users_df = users_df.join(temp_df.select('userId', 'thumbsRatio'), on='userId')"
   ]
  },
  {
   "cell_type": "code",
   "execution_count": 89,
   "metadata": {},
   "outputs": [],
   "source": [
    "def df_stat_over_window(action):\n",
    "    \"\"\"Show statistics on average song listened between visiting a certain page\n",
    "    and return summary dataframe\n",
    "    \n",
    "    Keyword arguments:\n",
    "    group -- a subset of users\n",
    "    page -- a page to calculate statistics on\n",
    "    \"\"\"\n",
    "    function = F.udf(lambda isact : int(isact == action), IntegerType())\n",
    "    \n",
    "    user_window = Window \\\n",
    "        .partitionBy('userId') \\\n",
    "        .orderBy(F.desc('ts')) \\\n",
    "        .rangeBetween(Window.unboundedPreceding, 0)\n",
    "    \n",
    "    cusum = df.filter((df.page == 'NextSong') | (df.page == action)) \\\n",
    "        .select('userId', 'page', 'ts') \\\n",
    "        .withColumn('actionflag', function(F.col('page'))) \\\n",
    "        .withColumn('period', Fsum('actionflag').over(user_window))\n",
    "\n",
    "    cusum = cusum.filter((cusum.page == 'NextSong')) \\\n",
    "        .groupBy('userId', 'period') \\\n",
    "        .agg({'period':'count'}) \\\n",
    "        .groupBy('userId') \\\n",
    "        .agg({'count(period)':\"avg\"}) \\\n",
    "        .withColumnRenamed('avg(count(period))', action)\n",
    "        \n",
    "    \n",
    "    return cusum.withColumn(action, F.round(cusum[action], 2))"
   ]
  },
  {
   "cell_type": "code",
   "execution_count": 90,
   "metadata": {},
   "outputs": [],
   "source": [
    "# including some statistics about actions taken/ancountered by a user \n",
    "actions = ['Logout', 'Roll Advert', 'Error', 'Help']\n",
    "\n",
    "for action in actions:\n",
    "    temp_df = stat_over_window(user_ids, action)\n",
    "    temp_df = temp_df.withColumn(action, F.round(temp_df[action], 2))\n",
    "    users_df = users_df.join(temp_df, on='userId')"
   ]
  },
  {
   "cell_type": "code",
   "execution_count": 91,
   "metadata": {},
   "outputs": [
    {
     "name": "stdout",
     "output_type": "stream",
     "text": [
      "+------+-----+-------------+-----------+------+-----------+------+------+\n",
      "|userId|label|songsListened|thumbsRatio|Logout|Roll Advert| Error|  Help|\n",
      "+------+-----+-------------+-----------+------+-----------+------+------+\n",
      "|100010|    0|          275|        3.0|  55.0|        5.5| 275.0| 91.67|\n",
      "|200002|    0|          387|        4.0|  64.5|      48.38| 387.0| 129.0|\n",
      "|   124|    0|         4079|        4.0| 69.14|      815.8|582.71|169.96|\n",
      "|    51|    1|         2111|        5.0| 84.44|     2111.0|1055.5|162.38|\n",
      "|     7|    0|          150|        7.0|  37.5|       8.82|  75.0|  75.0|\n",
      "|    15|    0|         1914|        6.0| 70.89|      957.0| 638.0|212.67|\n",
      "|    54|    1|         2841|        6.0| 78.92|      60.45|1420.5|157.83|\n",
      "|   155|    0|          820|       19.0| 54.67|      91.11| 205.0|  82.0|\n",
      "|100014|    1|          257|        6.0| 64.25|      85.67| 257.0| 85.67|\n",
      "|   132|    0|         1928|        6.0| 55.09|     642.67| 482.0|113.41|\n",
      "|   101|    1|         1797|        5.0| 74.88|     199.67|449.25|149.75|\n",
      "|    11|    0|          647|        4.0| 43.13|      16.59| 323.5|161.75|\n",
      "|   138|    0|         2070|        4.0|108.95|      115.0|1035.0|159.23|\n",
      "|300017|    0|         3632|       11.0| 88.59|     302.67|605.33|129.71|\n",
      "|100021|    1|          230|        2.0| 28.75|       7.93| 76.67| 230.0|\n",
      "|    29|    1|         3028|        7.0|  72.1|     131.65|3028.0|104.41|\n",
      "|    69|    0|         1125|        8.0|102.27|     281.25| 225.0|160.71|\n",
      "|   112|    0|          215|        3.0| 71.67|       9.77| 215.0| 107.5|\n",
      "|    42|    0|         3573|        7.0| 83.09|     324.82|446.63|170.14|\n",
      "|    73|    1|          377|        2.0| 47.13|      188.5| 188.5|  75.4|\n",
      "+------+-----+-------------+-----------+------+-----------+------+------+\n",
      "only showing top 20 rows\n",
      "\n"
     ]
    }
   ],
   "source": [
    "users_df = users_df.withColumnRenamed('churn', 'label')\n",
    "users_df.show()"
   ]
  },
  {
   "cell_type": "markdown",
   "metadata": {},
   "source": [
    "## Modeling"
   ]
  },
  {
   "cell_type": "code",
   "execution_count": 92,
   "metadata": {},
   "outputs": [
    {
     "data": {
      "text/plain": [
       "[(),\n",
       " ('songsListened',),\n",
       " ('thumbsRatio',),\n",
       " ('Logout',),\n",
       " ('Roll Advert',),\n",
       " ('Error',),\n",
       " ('Help',),\n",
       " ('songsListened', 'thumbsRatio'),\n",
       " ('songsListened', 'Logout'),\n",
       " ('songsListened', 'Roll Advert'),\n",
       " ('songsListened', 'Error'),\n",
       " ('songsListened', 'Help'),\n",
       " ('thumbsRatio', 'Logout'),\n",
       " ('thumbsRatio', 'Roll Advert'),\n",
       " ('thumbsRatio', 'Error'),\n",
       " ('thumbsRatio', 'Help'),\n",
       " ('Logout', 'Roll Advert'),\n",
       " ('Logout', 'Error'),\n",
       " ('Logout', 'Help'),\n",
       " ('Roll Advert', 'Error'),\n",
       " ('Roll Advert', 'Help'),\n",
       " ('Error', 'Help'),\n",
       " ('songsListened', 'thumbsRatio', 'Logout'),\n",
       " ('songsListened', 'thumbsRatio', 'Roll Advert'),\n",
       " ('songsListened', 'thumbsRatio', 'Error'),\n",
       " ('songsListened', 'thumbsRatio', 'Help'),\n",
       " ('songsListened', 'Logout', 'Roll Advert'),\n",
       " ('songsListened', 'Logout', 'Error'),\n",
       " ('songsListened', 'Logout', 'Help'),\n",
       " ('songsListened', 'Roll Advert', 'Error'),\n",
       " ('songsListened', 'Roll Advert', 'Help'),\n",
       " ('songsListened', 'Error', 'Help'),\n",
       " ('thumbsRatio', 'Logout', 'Roll Advert'),\n",
       " ('thumbsRatio', 'Logout', 'Error'),\n",
       " ('thumbsRatio', 'Logout', 'Help'),\n",
       " ('thumbsRatio', 'Roll Advert', 'Error'),\n",
       " ('thumbsRatio', 'Roll Advert', 'Help'),\n",
       " ('thumbsRatio', 'Error', 'Help'),\n",
       " ('Logout', 'Roll Advert', 'Error'),\n",
       " ('Logout', 'Roll Advert', 'Help'),\n",
       " ('Logout', 'Error', 'Help'),\n",
       " ('Roll Advert', 'Error', 'Help'),\n",
       " ('songsListened', 'thumbsRatio', 'Logout', 'Roll Advert'),\n",
       " ('songsListened', 'thumbsRatio', 'Logout', 'Error'),\n",
       " ('songsListened', 'thumbsRatio', 'Logout', 'Help'),\n",
       " ('songsListened', 'thumbsRatio', 'Roll Advert', 'Error'),\n",
       " ('songsListened', 'thumbsRatio', 'Roll Advert', 'Help'),\n",
       " ('songsListened', 'thumbsRatio', 'Error', 'Help'),\n",
       " ('songsListened', 'Logout', 'Roll Advert', 'Error'),\n",
       " ('songsListened', 'Logout', 'Roll Advert', 'Help'),\n",
       " ('songsListened', 'Logout', 'Error', 'Help'),\n",
       " ('songsListened', 'Roll Advert', 'Error', 'Help'),\n",
       " ('thumbsRatio', 'Logout', 'Roll Advert', 'Error'),\n",
       " ('thumbsRatio', 'Logout', 'Roll Advert', 'Help'),\n",
       " ('thumbsRatio', 'Logout', 'Error', 'Help'),\n",
       " ('thumbsRatio', 'Roll Advert', 'Error', 'Help'),\n",
       " ('Logout', 'Roll Advert', 'Error', 'Help'),\n",
       " ('songsListened', 'thumbsRatio', 'Logout', 'Roll Advert', 'Error'),\n",
       " ('songsListened', 'thumbsRatio', 'Logout', 'Roll Advert', 'Help'),\n",
       " ('songsListened', 'thumbsRatio', 'Logout', 'Error', 'Help'),\n",
       " ('songsListened', 'thumbsRatio', 'Roll Advert', 'Error', 'Help'),\n",
       " ('songsListened', 'Logout', 'Roll Advert', 'Error', 'Help'),\n",
       " ('thumbsRatio', 'Logout', 'Roll Advert', 'Error', 'Help'),\n",
       " ('songsListened', 'thumbsRatio', 'Logout', 'Roll Advert', 'Error', 'Help')]"
      ]
     },
     "execution_count": 92,
     "metadata": {},
     "output_type": "execute_result"
    }
   ],
   "source": [
    "# superset of designed features\n",
    "feats = ['songsListened', 'thumbsRatio', 'Logout', 'Roll Advert', 'Error', 'Help']\n",
    "feats_list = list(chain.from_iterable(combinations(feats, r) for r in range(len(feats)+1)))\n",
    "feats_list"
   ]
  },
  {
   "cell_type": "code",
   "execution_count": 93,
   "metadata": {},
   "outputs": [
    {
     "data": {
      "text/plain": [
       "64"
      ]
     },
     "execution_count": 93,
     "metadata": {},
     "output_type": "execute_result"
    }
   ],
   "source": [
    "len(feats_list)"
   ]
  },
  {
   "cell_type": "code",
   "execution_count": 94,
   "metadata": {},
   "outputs": [],
   "source": [
    "# split the dataset\n",
    "(trainSet, validationSet, testSet) = users_df.randomSplit([0.7, 0.15, 0.15], seed=42)"
   ]
  },
  {
   "cell_type": "code",
   "execution_count": 95,
   "metadata": {},
   "outputs": [],
   "source": [
    "minor_df = trainSet.where(users_df['label']==1)\n",
    "major_df = trainSet.where(users_df['label']==0)\n",
    "ratio = major_df.count()/minor_df.count()"
   ]
  },
  {
   "cell_type": "code",
   "execution_count": 96,
   "metadata": {},
   "outputs": [
    {
     "data": {
      "text/plain": [
       "208"
      ]
     },
     "execution_count": 96,
     "metadata": {},
     "output_type": "execute_result"
    }
   ],
   "source": [
    "# deal with imbalance by oversampling\n",
    "a = range(int(ratio))\n",
    "# duplicate the minority rows\n",
    "oversampled_df = minor_df.withColumn(\"dummy\", F.explode(F.array([F.lit(x) for x in a]))).drop('dummy')\n",
    "# combine both oversampled minority rows and previous majority rows \n",
    "trainSet = major_df.unionAll(oversampled_df)\n",
    "trainSet.count()"
   ]
  },
  {
   "cell_type": "code",
   "execution_count": 97,
   "metadata": {},
   "outputs": [
    {
     "data": {
      "text/plain": [
       "93"
      ]
     },
     "execution_count": 97,
     "metadata": {},
     "output_type": "execute_result"
    }
   ],
   "source": [
    "trainSet.where(users_df['label']==1).count()"
   ]
  },
  {
   "cell_type": "code",
   "execution_count": 98,
   "metadata": {},
   "outputs": [
    {
     "data": {
      "text/plain": [
       "115"
      ]
     },
     "execution_count": 98,
     "metadata": {},
     "output_type": "execute_result"
    }
   ],
   "source": [
    "trainSet.where(users_df['label']==0).count()"
   ]
  },
  {
   "cell_type": "code",
   "execution_count": 99,
   "metadata": {},
   "outputs": [],
   "source": [
    "def create_model(feats, trainSet, validationSet):\n",
    "    \"\"\"Create logistic regression classifier based on trainSet.\n",
    "    Tune parameters and calculate f1 metrics for validationSet.\n",
    "    Return the model and corresponding f1 score.\n",
    "    \n",
    "    Keyword arguments:\n",
    "    feats -- a collection of features to use for prediction\n",
    "    trainSet -- training dataset\n",
    "    validationSet -- validation dataset\n",
    "    \"\"\"\n",
    "    # set stages for pipeline\n",
    "    stages = []\n",
    "    assemblerInputs = list(feats)\n",
    "    print('Features: {}'.format(assemblerInputs))\n",
    "    assembler = VectorAssembler(inputCols=assemblerInputs, outputCol=\"features\")\n",
    "    stages += [assembler]\n",
    "    lr = LogisticRegression(labelCol=\"label\", featuresCol=\"features\")\n",
    "    stages += [lr]\n",
    "\n",
    "    pipeline = Pipeline(stages=stages)\n",
    "    \n",
    "    # set parameter grid\n",
    "    paramGrid = ParamGridBuilder() \\\n",
    "        .addGrid(lr.elasticNetParam, [0.0, 0.5, 1.0])\\\n",
    "        .addGrid(lr.maxIter, [5, 7, 10]) \\\n",
    "        .addGrid(lr.threshold, [0.3, 0.5, 0.7])\\\n",
    "        .build()\n",
    "\n",
    "    #set crossvalidator\n",
    "    crossval = CrossValidator(estimator=pipeline,\n",
    "                              estimatorParamMaps=paramGrid,\n",
    "                              evaluator=BinaryClassificationEvaluator(),\n",
    "                              numFolds=3)\n",
    "    \n",
    "    model = crossval.fit(trainSet)\n",
    "    results = model.transform(validationSet)\n",
    "\n",
    "    # compute metrics\n",
    "    eval_f1 = MulticlassClassificationEvaluator(labelCol=\"label\", predictionCol=\"prediction\", metricName=\"f1\")\n",
    "    \n",
    "    \n",
    "    true_positive = results.filter((results.label==1) & (results.prediction==1)).count()\n",
    "    false_positive = results.filter((results.label==0) & (results.prediction==1)).count()\n",
    "    try:\n",
    "        precision = true_positive / (true_positive+false_positive)\n",
    "        relevant_elements = results.filter(results.label==1).count()\n",
    "        recall = true_positive / relevant_elements\n",
    "        f1_score = 0.5*precision + 0.5*recall\n",
    "        print(f1_score)\n",
    "    except:\n",
    "        print(\"NaN\")\n",
    "    \n",
    "    f1_score = eval_f1.evaluate(results)\n",
    "    \n",
    "    return model, f1_score\n",
    "  "
   ]
  },
  {
   "cell_type": "code",
   "execution_count": 100,
   "metadata": {},
   "outputs": [
    {
     "name": "stdout",
     "output_type": "stream",
     "text": [
      "Features: ['songsListened', 'thumbsRatio', 'Logout', 'Roll Advert', 'Error', 'Help']\n",
      "0.5666666666666667\n"
     ]
    }
   ],
   "source": [
    "model, f1_score = create_model(feats_list[63], trainSet, validationSet) "
   ]
  },
  {
   "cell_type": "code",
   "execution_count": 101,
   "metadata": {},
   "outputs": [
    {
     "data": {
      "text/plain": [
       "0.44752673796791453"
      ]
     },
     "execution_count": 101,
     "metadata": {},
     "output_type": "execute_result"
    }
   ],
   "source": [
    "f1_score"
   ]
  },
  {
   "cell_type": "code",
   "execution_count": 102,
   "metadata": {},
   "outputs": [
    {
     "name": "stdout",
     "output_type": "stream",
     "text": [
      "Chosen parameters:\n",
      "maxIter=10\n",
      "elasticNetParam=0.0\n",
      "threshold=0.3\n"
     ]
    }
   ],
   "source": [
    "# extract the parameters\n",
    "max_iter = model.bestModel.stages[-1]._java_obj.parent().getMaxIter()\n",
    "elastic_net = model.bestModel.stages[-1]._java_obj.parent().getElasticNetParam()\n",
    "treshold = model.bestModel.stages[-1]._java_obj.parent().getThreshold()\n",
    "print('Chosen parameters:\\nmaxIter={}\\nelasticNetParam={}\\nthreshold={}'.format(max_iter, elastic_net, treshold))"
   ]
  },
  {
   "cell_type": "code",
   "execution_count": 103,
   "metadata": {},
   "outputs": [
    {
     "name": "stdout",
     "output_type": "stream",
     "text": [
      "f1score = 0.6300533943554538\n"
     ]
    }
   ],
   "source": [
    "# test the model\n",
    "results = model.transform(testSet)\n",
    "         \n",
    "# compute metrics\n",
    "eval_f1 = MulticlassClassificationEvaluator(labelCol=\"label\", predictionCol=\"prediction\", metricName=\"f1\")\n",
    "print('f1score = {}'.format(eval_f1.evaluate(results)))"
   ]
  },
  {
   "cell_type": "code",
   "execution_count": null,
   "metadata": {},
   "outputs": [],
   "source": []
  }
 ],
 "metadata": {
  "kernelspec": {
   "display_name": "Python 3",
   "language": "python",
   "name": "python3"
  },
  "language_info": {
   "codemirror_mode": {
    "name": "ipython",
    "version": 3
   },
   "file_extension": ".py",
   "mimetype": "text/x-python",
   "name": "python",
   "nbconvert_exporter": "python",
   "pygments_lexer": "ipython3",
   "version": "3.6.3"
  }
 },
 "nbformat": 4,
 "nbformat_minor": 2
}
